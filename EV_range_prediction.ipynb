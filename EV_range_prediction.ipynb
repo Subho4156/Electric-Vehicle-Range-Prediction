{
 "cells": [
  {
   "cell_type": "code",
   "execution_count": 130,
   "id": "2012e18e-14e6-404f-a118-d13d928b1302",
   "metadata": {},
   "outputs": [],
   "source": [
    "import pandas as pd\n",
    "import joblib"
   ]
  },
  {
   "cell_type": "code",
   "execution_count": 131,
   "id": "67b9cf25-2ce7-4818-88c1-77104ddabd1a",
   "metadata": {},
   "outputs": [],
   "source": [
    "# Load model\n",
    "model_data = joblib.load(\"linear_regression_ev_model.pkl\")\n",
    "lr = model_data['model']\n",
    "training_columns = model_data['columns']"
   ]
  },
  {
   "cell_type": "code",
   "execution_count": 132,
   "id": "b82da0a4-23c8-40f6-b5bb-1291196d3955",
   "metadata": {},
   "outputs": [
    {
     "name": "stdout",
     "output_type": "stream",
     "text": [
      "Model MAE: 14.93 km\n",
      "Model R²: 0.9638\n"
     ]
    }
   ],
   "source": [
    "print(f\"Model MAE: {model_data['mae']:.2f} km\")\n",
    "print(f\"Model R²: {model_data['r2']:.4f}\")"
   ]
  },
  {
   "cell_type": "code",
   "execution_count": 133,
   "id": "ce8a350e-2ac2-4d11-a13a-b6c84381f035",
   "metadata": {},
   "outputs": [],
   "source": [
    "# Create new car with exact training columns\n",
    "new_car = pd.DataFrame(0, index=[0], columns=training_columns, dtype=float)"
   ]
  },
  {
   "cell_type": "code",
   "execution_count": 134,
   "id": "0eb3b979-436e-43b9-8e03-034c54e115ed",
   "metadata": {},
   "outputs": [],
   "source": [
    "# Set features\n",
    "new_car.at[0, 'battery_capacity_kWh'] = 75\n",
    "new_car.at[0, 'top_speed_kmh'] = 200\n",
    "new_car.at[0, 'acceleration_0_100_s'] = 7.5\n",
    "new_car.at[0, 'fast_charging_power_kw_dc'] = 150\n",
    "new_car.at[0, 'torque_nm'] = 400\n",
    "new_car.at[0, 'efficiency_wh_per_km'] = 160\n",
    "new_car.at[0, 'seats'] = 5\n",
    "new_car.at[0, 'length_mm'] = 4700\n",
    "new_car.at[0, 'width_mm'] = 1850\n",
    "new_car.at[0, 'height_mm'] = 1600\n",
    "new_car.at[0, 'towing_capacity_kg'] = 1000\n",
    "new_car.at[0, 'drivetrain_RWD'] = 1\n",
    "new_car.at[0, 'car_body_type_SUV'] = 1\n",
    "new_car.at[0, 'cargo_volume_l_500'] = 1\n",
    "new_car.at[0, 'segment_JD - Large'] = 1"
   ]
  },
  {
   "cell_type": "code",
   "execution_count": 135,
   "id": "4e24b234-70a3-4532-889c-1deef67e041a",
   "metadata": {},
   "outputs": [
    {
     "name": "stdout",
     "output_type": "stream",
     "text": [
      "\n",
      "🔋 Predicted EV Range: 391.87 km\n"
     ]
    }
   ],
   "source": [
    "# Predict\n",
    "predicted_range = lr.predict(new_car)[0]\n",
    "print(f\"\\n🔋 Predicted EV Range: {predicted_range:.2f} km\")"
   ]
  },
  {
   "cell_type": "code",
   "execution_count": 136,
   "id": "1f854457-4758-4463-ac74-ca9dc178f9a6",
   "metadata": {},
   "outputs": [],
   "source": [
    "def predict_ev_range(\n",
    "    battery_capacity_kWh=75,\n",
    "    top_speed_kmh=200,\n",
    "    acceleration_0_100_s=7.5,\n",
    "    fast_charging_power_kw_dc=150,\n",
    "    torque_nm=400,\n",
    "    efficiency_wh_per_km=160,\n",
    "    seats=5,\n",
    "    length_mm=4700,\n",
    "    width_mm=1850,\n",
    "    height_mm=1600,\n",
    "    towing_capacity_kg=1000,\n",
    "    cargo_volume_l=500,\n",
    "    drivetrain=\"RWD\",  # Options: \"RWD\", \"FWD\", \"AWD\"\n",
    "    segment=\"JD - Large\",  # e.g., \"C - Medium\", \"D - Large\", \"JD - Large\"\n",
    "    car_body_type=\"SUV\"  # e.g., \"SUV\", \"Sedan\", \"Hatchback\"\n",
    "):\n",
    "    \"\"\"\n",
    "    Predict EV range with custom feature values\n",
    "    \"\"\"\n",
    "    # Create new car with all columns initialized to 0\n",
    "    new_car = pd.DataFrame(0, index=[0], columns=training_columns, dtype=float)\n",
    "    \n",
    "    # Set numeric features\n",
    "    new_car.at[0, 'battery_capacity_kWh'] = battery_capacity_kWh\n",
    "    new_car.at[0, 'top_speed_kmh'] = top_speed_kmh\n",
    "    new_car.at[0, 'acceleration_0_100_s'] = acceleration_0_100_s\n",
    "    new_car.at[0, 'fast_charging_power_kw_dc'] = fast_charging_power_kw_dc\n",
    "    new_car.at[0, 'torque_nm'] = torque_nm\n",
    "    new_car.at[0, 'efficiency_wh_per_km'] = efficiency_wh_per_km\n",
    "    new_car.at[0, 'seats'] = seats\n",
    "    new_car.at[0, 'length_mm'] = length_mm\n",
    "    new_car.at[0, 'width_mm'] = width_mm\n",
    "    new_car.at[0, 'height_mm'] = height_mm\n",
    "    new_car.at[0, 'towing_capacity_kg'] = towing_capacity_kg\n",
    "    \n",
    "    # Set categorical features\n",
    "    # Drivetrain\n",
    "    if f'drivetrain_{drivetrain}' in training_columns:\n",
    "        new_car.at[0, f'drivetrain_{drivetrain}'] = 1\n",
    "    \n",
    "    # Segment\n",
    "    if f'segment_{segment}' in training_columns:\n",
    "        new_car.at[0, f'segment_{segment}'] = 1\n",
    "    \n",
    "    # Car body type\n",
    "    if f'car_body_type_{car_body_type}' in training_columns:\n",
    "        new_car.at[0, f'car_body_type_{car_body_type}'] = 1\n",
    "    \n",
    "    # Cargo volume (find closest match)\n",
    "    cargo_cols = [col for col in training_columns if col.startswith('cargo_volume_l_')]\n",
    "    if cargo_cols:\n",
    "        # Extract numeric values from column names\n",
    "        cargo_values = []\n",
    "        for col in cargo_cols:\n",
    "            try:\n",
    "                val = int(col.replace('cargo_volume_l_', ''))\n",
    "                cargo_values.append((col, val))\n",
    "            except:\n",
    "                pass\n",
    "        \n",
    "        # Find closest cargo volume\n",
    "        if cargo_values:\n",
    "            closest = min(cargo_values, key=lambda x: abs(x[1] - cargo_volume_l))\n",
    "            new_car.at[0, closest[0]] = 1\n",
    "    \n",
    "    # Predict\n",
    "    predicted_range = lr.predict(new_car)[0]\n",
    "    return predicted_range"
   ]
  },
  {
   "cell_type": "code",
   "execution_count": 137,
   "id": "773bfe17-b985-4d5b-aa7b-96e1aaa7f325",
   "metadata": {},
   "outputs": [
    {
     "name": "stdout",
     "output_type": "stream",
     "text": [
      "============================================================\n",
      "EXAMPLE 1: Small City Car (Compact EV)\n",
      "============================================================\n",
      "🔋 Predicted Range: 196.90 km\n",
      "\n"
     ]
    }
   ],
   "source": [
    "# Example 1: Small city car\n",
    "print(\"=\" * 60)\n",
    "print(\"EXAMPLE 1: Small City Car (Compact EV)\")\n",
    "print(\"=\" * 60)\n",
    "range1 = predict_ev_range(\n",
    "    battery_capacity_kWh=40,\n",
    "    top_speed_kmh=150,\n",
    "    acceleration_0_100_s=9.0,\n",
    "    fast_charging_power_kw_dc=50,\n",
    "    torque_nm=200,\n",
    "    efficiency_wh_per_km=140,\n",
    "    seats=4,\n",
    "    length_mm=4000,\n",
    "    width_mm=1700,\n",
    "    height_mm=1500,\n",
    "    towing_capacity_kg=0,\n",
    "    cargo_volume_l=300,\n",
    "    drivetrain=\"FWD\",\n",
    "    segment=\"B - Compact\",\n",
    "    car_body_type=\"Hatchback\"\n",
    ")\n",
    "print(f\"🔋 Predicted Range: {range1:.2f} km\\n\")"
   ]
  },
  {
   "cell_type": "code",
   "execution_count": 138,
   "id": "b3e6768a-82cb-477d-ba30-6d24001727b9",
   "metadata": {},
   "outputs": [
    {
     "name": "stdout",
     "output_type": "stream",
     "text": [
      "============================================================\n",
      "EXAMPLE 2: Large Luxury SUV\n",
      "============================================================\n",
      "🔋 Predicted Range: 611.89 km\n",
      "\n"
     ]
    }
   ],
   "source": [
    "# Example 2: Large luxury SUV\n",
    "print(\"=\" * 60)\n",
    "print(\"EXAMPLE 2: Large Luxury SUV\")\n",
    "print(\"=\" * 60)\n",
    "range2 = predict_ev_range(\n",
    "    battery_capacity_kWh=100,\n",
    "    top_speed_kmh=220,\n",
    "    acceleration_0_100_s=5.0,\n",
    "    fast_charging_power_kw_dc=250,\n",
    "    torque_nm=800,\n",
    "    efficiency_wh_per_km=200,\n",
    "    seats=7,\n",
    "    length_mm=5000,\n",
    "    width_mm=2000,\n",
    "    height_mm=1800,\n",
    "    towing_capacity_kg=2500,\n",
    "    cargo_volume_l=700,\n",
    "    drivetrain=\"RWD\",\n",
    "    segment=\"F - Luxury\",\n",
    "    car_body_type=\"SUV\"\n",
    ")\n",
    "print(f\"🔋 Predicted Range: {range2:.2f} km\\n\")"
   ]
  },
  {
   "cell_type": "code",
   "execution_count": 139,
   "id": "c4d4118a-526e-4af0-8719-513273801cce",
   "metadata": {},
   "outputs": [
    {
     "name": "stdout",
     "output_type": "stream",
     "text": [
      "============================================================\n",
      "EXAMPLE 3: Mid-Size Sedan\n",
      "============================================================\n",
      "🔋 Predicted Range: 449.75 km\n",
      "\n"
     ]
    }
   ],
   "source": [
    "# Example 3: Mid-size sedan\n",
    "print(\"=\" * 60)\n",
    "print(\"EXAMPLE 3: Mid-Size Sedan\")\n",
    "print(\"=\" * 60)\n",
    "range3 = predict_ev_range(\n",
    "    battery_capacity_kWh=60,\n",
    "    top_speed_kmh=180,\n",
    "    acceleration_0_100_s=7.0,\n",
    "    fast_charging_power_kw_dc=120,\n",
    "    torque_nm=350,\n",
    "    efficiency_wh_per_km=155,\n",
    "    seats=5,\n",
    "    length_mm=4600,\n",
    "    width_mm=1800,\n",
    "    height_mm=1450,\n",
    "    towing_capacity_kg=500,\n",
    "    cargo_volume_l=450,\n",
    "    drivetrain=\"RWD\",\n",
    "    segment=\"D - Large\",\n",
    "    car_body_type=\"Sedan\"\n",
    ")\n",
    "print(f\"🔋 Predicted Range: {range3:.2f} km\\n\")"
   ]
  },
  {
   "cell_type": "code",
   "execution_count": 140,
   "id": "9b9b5f53-429c-4a3e-82d0-99baa4182351",
   "metadata": {},
   "outputs": [
    {
     "name": "stdout",
     "output_type": "stream",
     "text": [
      "============================================================\n",
      "CUSTOM PREDICTION:\n",
      "============================================================\n",
      "🔋 Predicted Range: 433.38 km\n"
     ]
    }
   ],
   "source": [
    "print(\"=\" * 60)\n",
    "print(\"CUSTOM PREDICTION:\")\n",
    "print(\"=\" * 60)\n",
    "custom_range = predict_ev_range(\n",
    "    battery_capacity_kWh=85,\n",
    "    efficiency_wh_per_km=170,\n",
    "    drivetrain=\"RWD\",\n",
    "    car_body_type=\"SUV\"\n",
    ")\n",
    "print(f\"🔋 Predicted Range: {custom_range:.2f} km\")"
   ]
  },
  {
   "cell_type": "code",
   "execution_count": null,
   "id": "5927872f-c8fe-4712-9f35-42a07708eec7",
   "metadata": {},
   "outputs": [],
   "source": []
  }
 ],
 "metadata": {
  "kernelspec": {
   "display_name": "Python [conda env:base] *",
   "language": "python",
   "name": "conda-base-py"
  },
  "language_info": {
   "codemirror_mode": {
    "name": "ipython",
    "version": 3
   },
   "file_extension": ".py",
   "mimetype": "text/x-python",
   "name": "python",
   "nbconvert_exporter": "python",
   "pygments_lexer": "ipython3",
   "version": "3.13.5"
  }
 },
 "nbformat": 4,
 "nbformat_minor": 5
}
