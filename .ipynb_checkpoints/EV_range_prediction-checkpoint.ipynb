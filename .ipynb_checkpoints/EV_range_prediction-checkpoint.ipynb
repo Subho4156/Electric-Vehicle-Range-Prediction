{
 "cells": [
  {
   "cell_type": "code",
   "execution_count": 123,
   "id": "082845d8-07e7-433d-bb79-417b95e57ee3",
   "metadata": {},
   "outputs": [],
   "source": [
    "import pandas as pd\n",
    "import joblib"
   ]
  },
  {
   "cell_type": "code",
   "execution_count": 124,
   "id": "9edfe371-52b9-4e71-928a-ded201fb7813",
   "metadata": {},
   "outputs": [],
   "source": [
    "# Load model\n",
    "lr = joblib.load(\"linear_regression_ev_model.pkl\")"
   ]
  },
  {
   "cell_type": "code",
   "execution_count": 125,
   "id": "a5225c24-32f6-4131-8935-ce355c2da0b4",
   "metadata": {},
   "outputs": [],
   "source": [
    "# Load your cleaned dataset (to get column names)\n",
    "df = pd.read_csv(\"data/ev_data_cleaned.csv\")"
   ]
  },
  {
   "cell_type": "code",
   "execution_count": 128,
   "id": "fe108cef-fcdc-4aa0-be36-15a2ba01ee23",
   "metadata": {},
   "outputs": [],
   "source": [
    "X = df.drop(\"range_km\", axis=1)\n",
    "y = df[\"range_km\"]\n",
    "X_encoded = pd.get_dummies(X, drop_first=True)"
   ]
  },
  {
   "cell_type": "code",
   "execution_count": 129,
   "id": "eec211f1-6277-4cee-9604-82cdb932cc7d",
   "metadata": {},
   "outputs": [
    {
     "name": "stdout",
     "output_type": "stream",
     "text": [
      "============================================================\n",
      "TESTING MODEL ON ORIGINAL TRAINING DATA:\n",
      "============================================================\n",
      "\n",
      "First 5 predictions vs actual:\n",
      "Row 0: Predicted=-92040.3 km, Actual=225.0 km\n",
      "Row 1: Predicted=-91901.3 km, Actual=225.0 km\n",
      "Row 2: Predicted=-99877.9 km, Actual=280.0 km\n",
      "Row 3: Predicted=-99880.3 km, Actual=280.0 km\n",
      "Row 4: Predicted=-105237.6 km, Actual=315.0 km\n",
      "\n",
      "============================================================\n",
      "MODEL COEFFICIENTS CHECK:\n",
      "============================================================\n",
      "Intercept: 393.38\n",
      "Number of coefficients: 174\n",
      "\n",
      "Top 10 positive coefficients:\n",
      "                    feature  coefficient\n",
      "1      battery_capacity_kWh    96.522529\n",
      "157      segment_F - Luxury    31.444145\n",
      "170       car_body_type_SUV    22.834619\n",
      "155       segment_D - Large    21.486735\n",
      "7                     seats    21.262603\n",
      "156   segment_E - Executive    20.942941\n",
      "154      segment_C - Medium    17.190384\n",
      "162     segment_JC - Medium    12.144920\n",
      "153     segment_B - Compact    10.429792\n",
      "164  segment_JE - Executive     9.800253\n",
      "\n",
      "Top 10 negative coefficients:\n",
      "                  feature  coefficient\n",
      "30     cargo_volume_l_300    -7.593190\n",
      "4    acceleration_0_100_s    -8.080754\n",
      "20     cargo_volume_l_185    -8.807002\n",
      "149    cargo_volume_l_989    -9.296124\n",
      "2               torque_nm    -9.705525\n",
      "40     cargo_volume_l_333   -10.476298\n",
      "132    cargo_volume_l_603   -10.902571\n",
      "8               length_mm   -13.041977\n",
      "3    efficiency_wh_per_km   -19.851155\n",
      "10              height_mm   -21.031109\n",
      "\n",
      "============================================================\n",
      "CHECKING IF MODEL WAS TRAINED WITH A PIPELINE:\n",
      "============================================================\n",
      "Model type: <class 'sklearn.linear_model._base.LinearRegression'>\n",
      "Model attributes: ['__abstractmethods__', '__annotations__', '__class__', '__delattr__', '__dict__', '__dir__', '__doc__', '__eq__', '__firstlineno__', '__format__', '__ge__', '__getattribute__', '__getstate__', '__gt__', '__hash__', '__init__', '__init_subclass__', '__le__', '__lt__', '__module__', '__ne__', '__new__', '__reduce__', '__reduce_ex__', '__repr__', '__setattr__', '__setstate__', '__sizeof__', '__sklearn_clone__', '__sklearn_tags__', '__static_attributes__', '__str__', '__subclasshook__', '__weakref__', '_abc_impl', '_build_request_for_signature', '_check_feature_names', '_check_n_features', '_decision_function', '_doc_link_module', '_doc_link_template', '_doc_link_url_param_generator', '_estimator_type', '_get_default_requests', '_get_doc_link', '_get_metadata_request', '_get_param_names', '_get_tags', '_more_tags', '_parameter_constraints', '_repr_html_', '_repr_html_inner', '_repr_mimebundle_', '_set_intercept', '_validate_data', '_validate_params', 'coef_', 'copy_X', 'fit', 'fit_intercept', 'get_metadata_routing', 'get_params', 'intercept_', 'n_features_in_', 'n_jobs', 'positive', 'predict', 'rank_', 'score', 'set_fit_request', 'set_params', 'set_score_request', 'singular_']\n"
     ]
    },
    {
     "name": "stderr",
     "output_type": "stream",
     "text": [
      "C:\\Users\\babul\\anaconda3\\Lib\\site-packages\\sklearn\\utils\\validation.py:2732: UserWarning: X has feature names, but LinearRegression was fitted without feature names\n",
      "  warnings.warn(\n"
     ]
    }
   ],
   "source": [
    "print(\"=\" * 60)\n",
    "print(\"TESTING MODEL ON ORIGINAL TRAINING DATA:\")\n",
    "print(\"=\" * 60)\n",
    "\n",
    "# Predict on first 5 rows of training data\n",
    "test_predictions = lr.predict(X_encoded.head(5))\n",
    "actual_values = y.head(5).values\n",
    "\n",
    "print(\"\\nFirst 5 predictions vs actual:\")\n",
    "for i, (pred, actual) in enumerate(zip(test_predictions, actual_values)):\n",
    "    print(f\"Row {i}: Predicted={pred:.1f} km, Actual={actual:.1f} km\")\n",
    "\n",
    "print(\"\\n\" + \"=\" * 60)\n",
    "print(\"MODEL COEFFICIENTS CHECK:\")\n",
    "print(\"=\" * 60)\n",
    "print(f\"Intercept: {lr.intercept_:.2f}\")\n",
    "print(f\"Number of coefficients: {len(lr.coef_)}\")\n",
    "print(f\"\\nTop 10 positive coefficients:\")\n",
    "coef_df = pd.DataFrame({\n",
    "    'feature': X_encoded.columns,\n",
    "    'coefficient': lr.coef_\n",
    "}).sort_values('coefficient', ascending=False)\n",
    "print(coef_df.head(10))\n",
    "\n",
    "print(f\"\\nTop 10 negative coefficients:\")\n",
    "print(coef_df.tail(10))\n",
    "\n",
    "print(\"\\n\" + \"=\" * 60)\n",
    "print(\"CHECKING IF MODEL WAS TRAINED WITH A PIPELINE:\")\n",
    "print(\"=\" * 60)\n",
    "print(f\"Model type: {type(lr)}\")\n",
    "print(f\"Model attributes: {dir(lr)}\")"
   ]
  },
  {
   "cell_type": "code",
   "execution_count": null,
   "id": "3d4eabd1-f15c-465f-a8aa-f2d53daf3cd9",
   "metadata": {},
   "outputs": [],
   "source": []
  }
 ],
 "metadata": {
  "kernelspec": {
   "display_name": "Python [conda env:base] *",
   "language": "python",
   "name": "conda-base-py"
  },
  "language_info": {
   "codemirror_mode": {
    "name": "ipython",
    "version": 3
   },
   "file_extension": ".py",
   "mimetype": "text/x-python",
   "name": "python",
   "nbconvert_exporter": "python",
   "pygments_lexer": "ipython3",
   "version": "3.13.5"
  }
 },
 "nbformat": 4,
 "nbformat_minor": 5
}
